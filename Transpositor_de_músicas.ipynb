{
  "nbformat": 4,
  "nbformat_minor": 0,
  "metadata": {
    "colab": {
      "provenance": []
    },
    "kernelspec": {
      "name": "python3",
      "display_name": "Python 3"
    },
    "language_info": {
      "name": "python"
    }
  },
  "cells": [
    {
      "cell_type": "code",
      "source": [
        "# Transpositor de músicas em notação latina\n",
        "\n",
        "def transpor_nota(nota, semitons):\n",
        "    notas = ['dó', 'dó#', 'ré', 'ré#', 'mi', 'fá', 'fá#', 'sol', 'sol#', 'lá', 'lá#', 'si']\n",
        "    indice_nota = notas.index(nota)\n",
        "    indice_transposto = (indice_nota + semitons) % 12\n",
        "    return notas[indice_transposto]\n",
        "\n",
        "def transpor_musica(musica, semitons):\n",
        "    notas_validas = 'abdefilmorsáéíóú#'\n",
        "    linhas = musica.split('\\n')\n",
        "    transposto = []\n",
        "    for linha in linhas:\n",
        "        notas = linha.split()\n",
        "        transposta_linha = []\n",
        "        for nota in notas:\n",
        "            # Verificar se a nota é válida\n",
        "            if any(letra not in notas_validas for letra in nota.lower()):\n",
        "                transposta_linha.append(nota)\n",
        "            else:\n",
        "                transposta_linha.append(transpor_nota(nota, semitons))\n",
        "        transposto.append(' '.join(transposta_linha))\n",
        "    return '\\n'.join(transposto)\n"
      ],
      "metadata": {
        "id": "uIH28zgL3Kla"
      },
      "execution_count": 34,
      "outputs": []
    },
    {
      "cell_type": "code",
      "execution_count": 35,
      "metadata": {
        "colab": {
          "base_uri": "https://localhost:8080/"
        },
        "id": "uZJX4gZExJi3",
        "outputId": "e3e4ea92-15b0-4c06-ee1f-3966c595decb"
      },
      "outputs": [
        {
          "output_type": "stream",
          "name": "stdout",
          "text": [
            "Música original:\n",
            "Clareou (G)\n",
            "Diogo Nogueira\n",
            "sol ré mi ré si lá si lá sol ré\n",
            "mi sol sol mi sol mi lá si\n",
            "sol si ré si lá sol si lá sol ré\n",
            "si dó si lá sol mi lá sol\n",
            "\n",
            "sol si ( dó si )x7\n",
            "mi lá ( si lá )x5 si dó si lá sol\n",
            "mi sol sol sol mi lá sol\n",
            "mi sol sol sol mi lá sol sol sol sol mi ré si si\n",
            "\n",
            "sol si dó si dó ré ré dó dó si dó si sol lá\n",
            "sol lá si lá si lá si lá si lá si dó si lá sol\n",
            "mi sol sol sol mi lá mi sol mi lá sol sol mi lá sol sol mi ré\n",
            "mi sol sol sol mi lá sol sol mi lá sol sol mi lá sol sol mi ré si si\n",
            "\n",
            "mi ré si sol\n",
            "sol sol mi sol sol sol mi lá si\n",
            "si lá sol ré\n",
            "sol sol mi sol sol mi sol sol si lá sol\n",
            "\n",
            "\n",
            "Música transposta:\n",
            "Clareou (G)\n",
            "Diogo Nogueira\n",
            "dó sol lá sol mi ré mi ré dó sol\n",
            "lá dó dó lá dó lá ré mi\n",
            "dó mi sol mi ré dó mi ré dó sol\n",
            "mi fá mi ré dó lá ré dó\n",
            "\n",
            "dó mi ( fá mi )x7\n",
            "lá ré ( mi ré )x5 mi fá mi ré dó\n",
            "lá dó dó dó lá ré dó\n",
            "lá dó dó dó lá ré dó dó dó dó lá sol mi mi\n",
            "\n",
            "dó mi fá mi fá sol sol fá fá mi fá mi dó ré\n",
            "dó ré mi ré mi ré mi ré mi ré mi fá mi ré dó\n",
            "lá dó dó dó lá ré lá dó lá ré dó dó lá ré dó dó lá sol\n",
            "lá dó dó dó lá ré dó dó lá ré dó dó lá ré dó dó lá sol mi mi\n",
            "\n",
            "lá sol mi dó\n",
            "dó dó lá dó dó dó lá ré mi\n",
            "mi ré dó sol\n",
            "dó dó lá dó dó lá dó dó mi ré dó\n",
            "\n"
          ]
        }
      ],
      "source": [
        "\n",
        "# Exemplo de uso:\n",
        "musica_original = \"\"\"Clareou (G)\n",
        "Diogo Nogueira\n",
        "sol ré mi ré si lá si lá sol ré\n",
        "mi sol sol mi sol mi lá si\n",
        "sol si ré si lá sol si lá sol ré\n",
        "si dó si lá sol mi lá sol\n",
        "\n",
        "sol si ( dó si )x7\n",
        "mi lá ( si lá )x5 si dó si lá sol\n",
        "mi sol sol sol mi lá sol\n",
        "mi sol sol sol mi lá sol sol sol sol mi ré si si\n",
        "\n",
        "sol si dó si dó ré ré dó dó si dó si sol lá\n",
        "sol lá si lá si lá si lá si lá si dó si lá sol\n",
        "mi sol sol sol mi lá mi sol mi lá sol sol mi lá sol sol mi ré\n",
        "mi sol sol sol mi lá sol sol mi lá sol sol mi lá sol sol mi ré si si\n",
        "\n",
        "mi ré si sol\n",
        "sol sol mi sol sol sol mi lá si\n",
        "si lá sol ré\n",
        "sol sol mi sol sol mi sol sol si lá sol\n",
        "\"\"\"\n",
        "semitons_para_transpor = 5\n",
        "musica_transposta = transpor_musica(musica_original, semitons_para_transpor)\n",
        "print(\"Música original:\")\n",
        "print(musica_original)\n",
        "print(\"\\nMúsica transposta:\")\n",
        "print(musica_transposta)\n"
      ]
    }
  ]
}